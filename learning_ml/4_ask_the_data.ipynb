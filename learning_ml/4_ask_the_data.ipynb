{
  "nbformat": 4,
  "nbformat_minor": 0,
  "metadata": {
    "colab": {
      "provenance": []
    },
    "kernelspec": {
      "name": "python3",
      "display_name": "Python 3"
    },
    "language_info": {
      "name": "python"
    }
  },
  "cells": [
    {
      "cell_type": "markdown",
      "source": [
        "1. # How big is the data?"
      ],
      "metadata": {
        "id": "4TQegsZLL2ro"
      }
    },
    {
      "cell_type": "code",
      "source": [
        "df.shape()"
      ],
      "metadata": {
        "id": "gFdlMrKkMBif"
      },
      "execution_count": null,
      "outputs": []
    },
    {
      "cell_type": "markdown",
      "source": [
        "# 2. How does the data look?"
      ],
      "metadata": {
        "id": "sFem5cuFMHdW"
      }
    },
    {
      "cell_type": "code",
      "source": [
        "df.head()"
      ],
      "metadata": {
        "id": "BEVJJkQ7MOdP"
      },
      "execution_count": null,
      "outputs": []
    },
    {
      "cell_type": "markdown",
      "source": [
        "# 3. What is the data type of the data"
      ],
      "metadata": {
        "id": "WWvTbyU8MWM3"
      }
    },
    {
      "cell_type": "code",
      "source": [
        "df.info()"
      ],
      "metadata": {
        "id": "sPH6wMfvMgN9"
      },
      "execution_count": null,
      "outputs": []
    },
    {
      "cell_type": "markdown",
      "source": [
        "# 4. Are there any missing values"
      ],
      "metadata": {
        "id": "Os9zWfumMlTP"
      }
    },
    {
      "cell_type": "code",
      "source": [
        "df.isnull().sum()"
      ],
      "metadata": {
        "id": "q_MXUvIJMsFC"
      },
      "execution_count": null,
      "outputs": []
    },
    {
      "cell_type": "markdown",
      "source": [
        "# 5. How does the data look mathematically"
      ],
      "metadata": {
        "id": "RNEP6ePRMzxO"
      }
    },
    {
      "cell_type": "code",
      "source": [
        "df.describe()"
      ],
      "metadata": {
        "id": "tS7N_zXJM_w7"
      },
      "execution_count": null,
      "outputs": []
    },
    {
      "cell_type": "markdown",
      "source": [
        "# 6. Are there duplicate values"
      ],
      "metadata": {
        "id": "qPn5DJZdND4O"
      }
    },
    {
      "cell_type": "code",
      "source": [
        "df.duplicates().sum()"
      ],
      "metadata": {
        "id": "-uSsS1VRNI2p"
      },
      "execution_count": null,
      "outputs": []
    },
    {
      "cell_type": "markdown",
      "source": [
        "# 7. Correlations between the cols"
      ],
      "metadata": {
        "id": "tlomQw98NMge"
      }
    },
    {
      "cell_type": "code",
      "source": [
        "df.corr()"
      ],
      "metadata": {
        "id": "StU3jQc1NS01"
      },
      "execution_count": null,
      "outputs": []
    }
  ]
}