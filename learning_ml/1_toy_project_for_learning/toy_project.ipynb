{
  "cells": [
    {
      "cell_type": "markdown",
      "metadata": {
        "id": "IAJ8S985xRwY"
      },
      "source": [
        "# Steps\n",
        "1. prooccess + Exploratory data analysis (EDA) + feature selection\n",
        "2. extract input output cols\n",
        "3. Scale the value\n",
        "4. Train test split\n",
        "5. Train the model\n",
        "6. Evaluate the model/ model selection\n",
        "7. Deploy the model\n"
      ]
    },
    {
      "cell_type": "code",
      "execution_count": null,
      "metadata": {
        "id": "K7Na0wyUtz7d"
      },
      "outputs": [],
      "source": [
        "#import all libraries\n",
        "import numpy as np\n",
        "import pandas as pd\n",
        "import matplotlib.pyplot as plt\n"
      ]
    },
    {
      "cell_type": "code",
      "execution_count": 1,
      "metadata": {
        "colab": {
          "base_uri": "https://localhost:8080/",
          "height": 423
        },
        "id": "Ro89mF2BuEeY",
        "outputId": "41676491-91c7-474a-8dd7-8eacf7733272"
      },
      "outputs": [
        {
          "ename": "NameError",
          "evalue": "name 'pd' is not defined",
          "output_type": "error",
          "traceback": [
            "\u001b[1;31m---------------------------------------------------------------------------\u001b[0m",
            "\u001b[1;31mNameError\u001b[0m                                 Traceback (most recent call last)",
            "Cell \u001b[1;32mIn[1], line 2\u001b[0m\n\u001b[0;32m      1\u001b[0m \u001b[38;5;66;03m# read dataset\u001b[39;00m\n\u001b[1;32m----> 2\u001b[0m df\u001b[38;5;241m=\u001b[39m \u001b[43mpd\u001b[49m\u001b[38;5;241m.\u001b[39mread_csv(\u001b[38;5;124m'\u001b[39m\u001b[38;5;124m/placement.csv\u001b[39m\u001b[38;5;124m'\u001b[39m)\n\u001b[0;32m      3\u001b[0m df\n",
            "\u001b[1;31mNameError\u001b[0m: name 'pd' is not defined"
          ]
        }
      ],
      "source": [
        "# read dataset\n",
        "df= pd.read_csv('/placement.csv')\n",
        "df"
      ]
    },
    {
      "cell_type": "code",
      "execution_count": null,
      "metadata": {
        "colab": {
          "base_uri": "https://localhost:8080/",
          "height": 423
        },
        "id": "X0Xe6eCDuOu-",
        "outputId": "06cf26de-90df-470c-e4d8-e4d6992f3947"
      },
      "outputs": [],
      "source": [
        "# 1drop unnecessary column\n",
        "df= df.drop([\"Unnamed: 0\"],axis=1)\n",
        "df"
      ]
    },
    {
      "cell_type": "code",
      "execution_count": null,
      "metadata": {
        "colab": {
          "base_uri": "https://localhost:8080/",
          "height": 447
        },
        "id": "WIiO9nr0vkHo",
        "outputId": "05a8a732-1d5c-48ed-f6e6-ec39fee9cb24"
      },
      "outputs": [],
      "source": [
        "# 1(EDA) scatter diagram to get some idea about which model to run\n",
        "plt.scatter(df['cgpa'],df['iq'], c=df['placement']) # y=iq, x=cgpa"
      ]
    },
    {
      "cell_type": "code",
      "execution_count": null,
      "metadata": {
        "id": "lbeJsz68zlkv"
      },
      "outputs": [],
      "source": [
        "#creating model\n",
        "#logistic regression"
      ]
    },
    {
      "cell_type": "code",
      "execution_count": null,
      "metadata": {
        "id": "0ZZXputHwpmi"
      },
      "outputs": [],
      "source": [
        "# 2extract all dependent and independent cols\n",
        "X = df.iloc[:,0:2]  #[for all rows, for 0 to 1 cols]\n",
        "Y = df.iloc[:,-1]  #[for all rows, -1 cols]\n"
      ]
    },
    {
      "cell_type": "code",
      "execution_count": null,
      "metadata": {
        "id": "8uWBhJTczMtf"
      },
      "outputs": [],
      "source": [
        "from sklearn.model_selection import train_test_split\n",
        "X_train,X_test,Y_train,Y_test=train_test_split(X,Y,test_size=.1)  # .1 for 10% data for test and 90% for train"
      ]
    },
    {
      "cell_type": "code",
      "execution_count": null,
      "metadata": {
        "id": "-xayZ94o1pQg"
      },
      "outputs": [],
      "source": [
        "#scaling\n",
        "from sklearn.preprocessing import StandardScaler\n",
        "scaler = StandardScaler()\n",
        "X_train= scaler.fit_transform(X_train)\n",
        "X_test = scaler.transform(X_test)\n"
      ]
    },
    {
      "cell_type": "code",
      "execution_count": null,
      "metadata": {
        "colab": {
          "base_uri": "https://localhost:8080/",
          "height": 80
        },
        "id": "6FRgQGAfOuYc",
        "outputId": "263e6f51-5496-4f25-bb05-261fb73b691c"
      },
      "outputs": [],
      "source": [
        "# model train\n",
        "from sklearn.linear_model import LogisticRegression\n",
        "model = LogisticRegression()\n",
        "model.fit(X_train,Y_train)  # that's how we train model"
      ]
    },
    {
      "cell_type": "code",
      "execution_count": null,
      "metadata": {
        "colab": {
          "base_uri": "https://localhost:8080/"
        },
        "id": "XG1dvRB7OoQg",
        "outputId": "c23af023-47e6-4219-cdaa-c0a8a4f365af"
      },
      "outputs": [],
      "source": [
        "# evaluate model\n",
        "X_pred = model.predict(X_test)\n",
        "X_pred"
      ]
    },
    {
      "cell_type": "code",
      "execution_count": null,
      "metadata": {
        "colab": {
          "base_uri": "https://localhost:8080/",
          "height": 397
        },
        "id": "LY9wv8miQICc",
        "outputId": "0e513d90-12d6-4d34-935a-e0a1b569f4be"
      },
      "outputs": [],
      "source": [
        "Y_test"
      ]
    },
    {
      "cell_type": "code",
      "execution_count": null,
      "metadata": {
        "colab": {
          "base_uri": "https://localhost:8080/"
        },
        "id": "aWoAt1k6Roj1",
        "outputId": "90ec785f-929e-40e2-f19f-0dbfae879b2c"
      },
      "outputs": [],
      "source": [
        "# accuracy\n",
        "from sklearn.metrics import accuracy_score\n",
        "accuracy_score(Y_test,X_pred)"
      ]
    },
    {
      "cell_type": "code",
      "execution_count": null,
      "metadata": {
        "colab": {
          "base_uri": "https://localhost:8080/",
          "height": 447
        },
        "id": "ANOJ5o7HS0rF",
        "outputId": "27fccebd-967c-4ea6-a875-05d61c16d887"
      },
      "outputs": [],
      "source": [
        "# visualise decition boundry\n",
        "from mlxtend.plotting import plot_decision_regions\n",
        "plot_decision_regions(X_train, Y_train.values, clf=model, legend=2)\n"
      ]
    },
    {
      "cell_type": "code",
      "execution_count": null,
      "metadata": {
        "id": "fvUIvOkGjmse"
      },
      "outputs": [],
      "source": [
        "import pickle\n",
        "pickle.dump(model,open('model.pkl','wb'))"
      ]
    }
  ],
  "metadata": {
    "colab": {
      "provenance": []
    },
    "kernelspec": {
      "display_name": "Python 3",
      "name": "python3"
    },
    "language_info": {
      "codemirror_mode": {
        "name": "ipython",
        "version": 3
      },
      "file_extension": ".py",
      "mimetype": "text/x-python",
      "name": "python",
      "nbconvert_exporter": "python",
      "pygments_lexer": "ipython3",
      "version": "3.12.9"
    }
  },
  "nbformat": 4,
  "nbformat_minor": 0
}
